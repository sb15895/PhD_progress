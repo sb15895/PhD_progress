{
 "cells": [
  {
   "cell_type": "markdown",
   "id": "f5a65ab6-4ac6-4a0b-bdf5-77c7b3c94f2f",
   "metadata": {},
   "source": [
    "## 1st May \n",
    "\n",
    "Blah blah \n"
   ]
  }
 ],
 "metadata": {
  "kernelspec": {
   "display_name": "Python 3 (ipykernel)",
   "language": "python",
   "name": "python3"
  },
  "language_info": {
   "codemirror_mode": {
    "name": "ipython",
    "version": 3
   },
   "file_extension": ".py",
   "mimetype": "text/x-python",
   "name": "python",
   "nbconvert_exporter": "python",
   "pygments_lexer": "ipython3",
   "version": "3.10.5"
  }
 },
 "nbformat": 4,
 "nbformat_minor": 5
}
