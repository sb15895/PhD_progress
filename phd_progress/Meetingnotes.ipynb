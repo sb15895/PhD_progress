{
 "cells": [
  {
   "cell_type": "markdown",
   "id": "b9fdc800-1ccd-4f6c-9a04-04fe5f64508c",
   "metadata": {},
   "source": [
    "# Gantt chart "
   ]
  },
  {
   "cell_type": "code",
   "execution_count": 1,
   "id": "f91f028c-2d16-49cd-87fa-efd977a21138",
   "metadata": {
    "tags": [
     "hide-input"
    ]
   },
   "outputs": [],
   "source": [
    "from IPython.display import Image, display\n",
    "import datetime as dt\n",
    "import pandas as pd\n",
    "import matplotlib.pyplot as plt\n",
    "from matplotlib.patches import Patch\n",
    "import numpy as np\n",
    "import plotly.express as px\n",
    "import plotly.figure_factory as ff\n",
    "\n",
    "# df = pd.DataFrame([\n",
    "#     dict(Task=\"Job A\", Start='2009-01-01', Finish='2009-02-28'),\n",
    "#     dict(Task=\"Job B\", Start='2009-03-05', Finish='2009-04-15'),\n",
    "#     dict(Task=\"Job C\", Start='2009-02-20', Finish='2009-05-30')\n",
    "# ])\n",
    "\n",
    "# fig = px.timeline(df, x_start=\"Start\", x_end=\"Finish\", y=\"Task\")\n",
    "# fig.update_yaxes(autorange=\"reversed\") # otherwise tasks are listed from the bottom up\n",
    "# fig.show()\n",
    "\n",
    "\n",
    "df = [dict(Task=\"Third Year Review\", Start='2023-12-01', Finish='2023-11-01'),\n",
    "      dict(Task=\"Second Year Review\", Start='2021-12-01', Finish='2021-11-01'),\n",
    "      dict(Task=\"First Year Review\", Start='2021-2-01', Finish='2021-1-01')]\n",
    "\n",
    "fig = ff.create_gantt(df)\n",
    "fig.show()\n",
    "\n"
   ]
  },
  {
   "cell_type": "markdown",
   "id": "d85f57f4-8580-48dc-8b77-71f8f5a8e47f",
   "metadata": {},
   "source": [
    "# Plots \n",
    "https://plotly.com/python/gantt/\n",
    "\n",
    "## 1st May \n",
    "\n",
    "Blah blah \n",
    "\n",
    "## 22 June \n",
    "Jupyter book \n",
    "https://sphinx-inline-tabs.readthedocs.io/en/latest/\n",
    "https://sphinx-book-theme.readthedocs.io/en/stable/customize/index.html\n",
    "\n",
    "\n"
   ]
  },
  {
   "cell_type": "code",
   "execution_count": null,
   "id": "2521a53e-9b84-4465-85a5-e7265a408b6d",
   "metadata": {},
   "outputs": [],
   "source": []
  },
  {
   "cell_type": "code",
   "execution_count": null,
   "id": "790e3ea7-c892-408a-bd01-a97d75439ff5",
   "metadata": {},
   "outputs": [],
   "source": []
  },
  {
   "cell_type": "code",
   "execution_count": null,
   "id": "832fa821-1ff1-4bfa-be4c-12f9d8a89877",
   "metadata": {},
   "outputs": [],
   "source": []
  }
 ],
 "metadata": {
  "kernelspec": {
   "display_name": "Python 3 (ipykernel)",
   "language": "python",
   "name": "python3"
  },
  "language_info": {
   "codemirror_mode": {
    "name": "ipython",
    "version": 3
   },
   "file_extension": ".py",
   "mimetype": "text/x-python",
   "name": "python",
   "nbconvert_exporter": "python",
   "pygments_lexer": "ipython3",
   "version": "3.10.4"
  }
 },
 "nbformat": 4,
 "nbformat_minor": 5
}
