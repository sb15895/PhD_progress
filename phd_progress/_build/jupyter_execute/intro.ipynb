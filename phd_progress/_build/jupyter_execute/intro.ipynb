{
 "cells": [
  {
   "cell_type": "markdown",
   "id": "2ee07c67",
   "metadata": {},
   "source": [
    "# My PhD timeline \n",
    "<!-- \n",
    "# Gantt chart \n",
    "\n",
    "A book about my work in PhD.  -->\n",
    "<!-- ```{tableofcontents}\n",
    "``` \n",
    " -->"
   ]
  },
  {
   "cell_type": "code",
   "execution_count": 1,
   "id": "4e8ec1eb",
   "metadata": {
    "tags": [
     "hide-input",
     "full-width"
    ]
   },
   "outputs": [
    {
     "ename": "ModuleNotFoundError",
     "evalue": "No module named 'pandas'",
     "output_type": "error",
     "traceback": [
      "\u001b[0;31m---------------------------------------------------------------------------\u001b[0m",
      "\u001b[0;31mModuleNotFoundError\u001b[0m                       Traceback (most recent call last)",
      "Input \u001b[0;32mIn [1]\u001b[0m, in \u001b[0;36m<cell line: 3>\u001b[0;34m()\u001b[0m\n\u001b[1;32m      1\u001b[0m \u001b[38;5;28;01mfrom\u001b[39;00m \u001b[38;5;21;01mIPython\u001b[39;00m\u001b[38;5;21;01m.\u001b[39;00m\u001b[38;5;21;01mdisplay\u001b[39;00m \u001b[38;5;28;01mimport\u001b[39;00m Image, display\n\u001b[1;32m      2\u001b[0m \u001b[38;5;28;01mimport\u001b[39;00m \u001b[38;5;21;01mdatetime\u001b[39;00m \u001b[38;5;28;01mas\u001b[39;00m \u001b[38;5;21;01mdt\u001b[39;00m\n\u001b[0;32m----> 3\u001b[0m \u001b[38;5;28;01mimport\u001b[39;00m \u001b[38;5;21;01mpandas\u001b[39;00m \u001b[38;5;28;01mas\u001b[39;00m \u001b[38;5;21;01mpd\u001b[39;00m\n\u001b[1;32m      4\u001b[0m \u001b[38;5;28;01mimport\u001b[39;00m \u001b[38;5;21;01mmatplotlib\u001b[39;00m\u001b[38;5;21;01m.\u001b[39;00m\u001b[38;5;21;01mpyplot\u001b[39;00m \u001b[38;5;28;01mas\u001b[39;00m \u001b[38;5;21;01mplt\u001b[39;00m\n\u001b[1;32m      5\u001b[0m \u001b[38;5;28;01mfrom\u001b[39;00m \u001b[38;5;21;01mmatplotlib\u001b[39;00m\u001b[38;5;21;01m.\u001b[39;00m\u001b[38;5;21;01mpatches\u001b[39;00m \u001b[38;5;28;01mimport\u001b[39;00m Patch\n",
      "\u001b[0;31mModuleNotFoundError\u001b[0m: No module named 'pandas'"
     ]
    }
   ],
   "source": [
    "from IPython.display import Image, display\n",
    "import datetime as dt\n",
    "import pandas as pd\n",
    "import matplotlib.pyplot as plt\n",
    "from matplotlib.patches import Patch\n",
    "import numpy as np\n",
    "import plotly.express as px\n",
    "import plotly.figure_factory as ff\n",
    "\n",
    "df = [dict(Task=\"Third Year Review\", Start='2022-11-01', Finish='2022-12-01'),\n",
    "      dict(Task=\"HPC IO tuner\", Start='2022-07-10', Finish='2022-07-30'),\n",
    "      dict(Task=\"Threads utilisation\", Start='2022-06-25', Finish='2022-06-30'),\n",
    "      dict(Task=\"Add fenicsX\", Start='2022-06-25', Finish='2022-06-30'),\n",
    "      dict(Task=\"Second Year Review\", Start='2021-11-01', Finish='2021-12-01'),\n",
    "      dict(Task=\"CIUK 21\", Start='2021-10-01', Finish='2021-11-01'),\n",
    "      dict(Task=\"First Year Review\", Start='2021-1-01', Finish='2021-2-01')]\n",
    "\n",
    "fig = ff.create_gantt(df) \n",
    "fig.update_layout(\n",
    "    autosize=False,\n",
    "    margin=dict(l=20, r=20, t=20, b=20),)\n",
    "fig.add_vrect(x0=\"2022-08-1\", x1=\"2022-08-10\", \n",
    "              annotation_text=\"SC22 deadline\", annotation_position=\"top left\",\n",
    "              fillcolor=\"green\", opacity=0.25, line_width=0)\n",
    "fig.layout.title = None\n",
    "\n",
    "fig.show()"
   ]
  }
 ],
 "metadata": {
  "jupytext": {
   "formats": "md:myst",
   "text_representation": {
    "extension": ".md",
    "format_name": "myst"
   }
  },
  "kernelspec": {
   "display_name": "Python 3",
   "language": "python",
   "name": "python3"
  },
  "language_info": {
   "codemirror_mode": {
    "name": "ipython",
    "version": 3
   },
   "file_extension": ".py",
   "mimetype": "text/x-python",
   "name": "python",
   "nbconvert_exporter": "python",
   "pygments_lexer": "ipython3",
   "version": "3.10.5"
  },
  "source_map": [
   11,
   21
  ]
 },
 "nbformat": 4,
 "nbformat_minor": 5
}