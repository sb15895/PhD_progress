{
 "cells": [
  {
   "cell_type": "markdown",
   "id": "d85f57f4-8580-48dc-8b77-71f8f5a8e47f",
   "metadata": {},
   "source": [
    "# Meeting notes \n",
    "\n",
    "## 22 June \n",
    "\n",
    "1. Realistic HPC workloads, compute step and writing step \n",
    "2. Intercommunicators \n",
    "3. ADIOS2 compression benchmarking \n",
    "4. For QRM;\n",
    "\n",
    "    a. Can show compression effects, DARSHAN modelling \n",
    "    \n",
    "    b. Can show some results from different servers? (Doubtful) \n",
    "\n",
    "\n",
    "\n"
   ]
  }
 ],
 "metadata": {
  "kernelspec": {
   "display_name": "Python 3 (ipykernel)",
   "language": "python",
   "name": "python3"
  },
  "language_info": {
   "codemirror_mode": {
    "name": "ipython",
    "version": 3
   },
   "file_extension": ".py",
   "mimetype": "text/x-python",
   "name": "python",
   "nbconvert_exporter": "python",
   "pygments_lexer": "ipython3",
   "version": "3.10.5"
  }
 },
 "nbformat": 4,
 "nbformat_minor": 5
}